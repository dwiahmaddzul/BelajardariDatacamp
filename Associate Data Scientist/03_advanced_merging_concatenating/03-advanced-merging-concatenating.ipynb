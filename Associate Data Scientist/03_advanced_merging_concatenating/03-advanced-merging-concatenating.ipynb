{
 "cells": [
  {
   "cell_type": "code",
   "execution_count": 1,
   "id": "b5ba112e",
   "metadata": {
    "_cell_guid": "b1076dfc-b9ad-4769-8c92-a6c4dae69d19",
    "_uuid": "8f2839f25d086af736a60e9eeb907d3b93b6e0e5",
    "execution": {
     "iopub.execute_input": "2025-02-24T06:30:54.448023Z",
     "iopub.status.busy": "2025-02-24T06:30:54.447628Z",
     "iopub.status.idle": "2025-02-24T06:30:55.462415Z",
     "shell.execute_reply": "2025-02-24T06:30:55.461227Z"
    },
    "papermill": {
     "duration": 1.020647,
     "end_time": "2025-02-24T06:30:55.464562",
     "exception": false,
     "start_time": "2025-02-24T06:30:54.443915",
     "status": "completed"
    },
    "tags": []
   },
   "outputs": [
    {
     "name": "stdout",
     "output_type": "stream",
     "text": [
      "DataFrame 1:\n",
      "   ID   Nama  Skor\n",
      "0   1    Ari    90\n",
      "1   2   Budi    85\n",
      "2   3  Citra    88\n",
      "\n",
      "DataFrame 2:\n",
      "   ID   Nama  Skor\n",
      "0   2   Budi    87\n",
      "1   3  Citra    80\n",
      "2   4   Dika    75\n"
     ]
    }
   ],
   "source": [
    "import pandas as pd\n",
    "\n",
    "# Contoh data\n",
    "df1 = pd.DataFrame({\n",
    "    'ID': [1, 2, 3],\n",
    "    'Nama': ['Ari', 'Budi', 'Citra'],\n",
    "    'Skor': [90, 85, 88]\n",
    "})\n",
    "\n",
    "df2 = pd.DataFrame({\n",
    "    'ID': [2, 3, 4],\n",
    "    'Nama': ['Budi', 'Citra', 'Dika'],\n",
    "    'Skor': [87, 80, 75]\n",
    "})\n",
    "\n",
    "# Menampilkan kedua tabel\n",
    "print(\"DataFrame 1:\")\n",
    "print(df1)\n",
    "print(\"\\nDataFrame 2:\")\n",
    "print(df2)"
   ]
  },
  {
   "cell_type": "code",
   "execution_count": 2,
   "id": "b6bd8cac",
   "metadata": {
    "execution": {
     "iopub.execute_input": "2025-02-24T06:30:55.470809Z",
     "iopub.status.busy": "2025-02-24T06:30:55.470369Z",
     "iopub.status.idle": "2025-02-24T06:30:55.504461Z",
     "shell.execute_reply": "2025-02-24T06:30:55.503231Z"
    },
    "papermill": {
     "duration": 0.038579,
     "end_time": "2025-02-24T06:30:55.505917",
     "exception": false,
     "start_time": "2025-02-24T06:30:55.467338",
     "status": "completed"
    },
    "tags": []
   },
   "outputs": [
    {
     "name": "stdout",
     "output_type": "stream",
     "text": [
      "Merging dengan Multiple Keys:\n",
      "   ID   Nama  Skor_x  Skor_y\n",
      "0   1    Ari    90.0     NaN\n",
      "1   2   Budi    85.0    87.0\n",
      "2   3  Citra    88.0    80.0\n",
      "3   4   Dika     NaN    75.0\n"
     ]
    },
    {
     "name": "stderr",
     "output_type": "stream",
     "text": [
      "/usr/local/lib/python3.10/dist-packages/pandas/io/formats/format.py:1458: RuntimeWarning: invalid value encountered in greater\n",
      "  has_large_values = (abs_vals > 1e6).any()\n",
      "/usr/local/lib/python3.10/dist-packages/pandas/io/formats/format.py:1459: RuntimeWarning: invalid value encountered in less\n",
      "  has_small_values = ((abs_vals < 10 ** (-self.digits)) & (abs_vals > 0)).any()\n",
      "/usr/local/lib/python3.10/dist-packages/pandas/io/formats/format.py:1459: RuntimeWarning: invalid value encountered in greater\n",
      "  has_small_values = ((abs_vals < 10 ** (-self.digits)) & (abs_vals > 0)).any()\n"
     ]
    }
   ],
   "source": [
    "df_merge_multi = df1.merge(df2, on=['ID', 'Nama'], how='outer')\n",
    "print(\"Merging dengan Multiple Keys:\")\n",
    "print(df_merge_multi)"
   ]
  },
  {
   "cell_type": "code",
   "execution_count": 3,
   "id": "3b90181c",
   "metadata": {
    "execution": {
     "iopub.execute_input": "2025-02-24T06:30:55.511544Z",
     "iopub.status.busy": "2025-02-24T06:30:55.511175Z",
     "iopub.status.idle": "2025-02-24T06:30:55.518758Z",
     "shell.execute_reply": "2025-02-24T06:30:55.517807Z"
    },
    "papermill": {
     "duration": 0.012108,
     "end_time": "2025-02-24T06:30:55.520330",
     "exception": false,
     "start_time": "2025-02-24T06:30:55.508222",
     "status": "completed"
    },
    "tags": []
   },
   "outputs": [
    {
     "name": "stdout",
     "output_type": "stream",
     "text": [
      "Concatenation Vertikal (axis=0):\n",
      "   ID   Nama  Skor\n",
      "0   1    Ari    90\n",
      "1   2   Budi    85\n",
      "2   3  Citra    88\n",
      "0   2   Budi    87\n",
      "1   3  Citra    80\n",
      "2   4   Dika    75\n"
     ]
    }
   ],
   "source": [
    "df_concat_vertical = pd.concat([df1, df2], axis=0)\n",
    "print(\"Concatenation Vertikal (axis=0):\")\n",
    "print(df_concat_vertical)"
   ]
  },
  {
   "cell_type": "code",
   "execution_count": 4,
   "id": "3a71c9cb",
   "metadata": {
    "execution": {
     "iopub.execute_input": "2025-02-24T06:30:55.525952Z",
     "iopub.status.busy": "2025-02-24T06:30:55.525613Z",
     "iopub.status.idle": "2025-02-24T06:30:55.537238Z",
     "shell.execute_reply": "2025-02-24T06:30:55.535741Z"
    },
    "papermill": {
     "duration": 0.01641,
     "end_time": "2025-02-24T06:30:55.539075",
     "exception": false,
     "start_time": "2025-02-24T06:30:55.522665",
     "status": "completed"
    },
    "tags": []
   },
   "outputs": [
    {
     "name": "stdout",
     "output_type": "stream",
     "text": [
      "Concatenation Horizontal (axis=1):\n",
      "     Nama  Skor   Nama  Skor\n",
      "ID                          \n",
      "1     Ari  90.0    NaN   NaN\n",
      "2    Budi  85.0   Budi  87.0\n",
      "3   Citra  88.0  Citra  80.0\n",
      "4     NaN   NaN   Dika  75.0\n"
     ]
    },
    {
     "name": "stderr",
     "output_type": "stream",
     "text": [
      "/usr/local/lib/python3.10/dist-packages/pandas/io/formats/format.py:1458: RuntimeWarning: invalid value encountered in greater\n",
      "  has_large_values = (abs_vals > 1e6).any()\n",
      "/usr/local/lib/python3.10/dist-packages/pandas/io/formats/format.py:1459: RuntimeWarning: invalid value encountered in less\n",
      "  has_small_values = ((abs_vals < 10 ** (-self.digits)) & (abs_vals > 0)).any()\n",
      "/usr/local/lib/python3.10/dist-packages/pandas/io/formats/format.py:1459: RuntimeWarning: invalid value encountered in greater\n",
      "  has_small_values = ((abs_vals < 10 ** (-self.digits)) & (abs_vals > 0)).any()\n"
     ]
    }
   ],
   "source": [
    "df_concat_horizontal = pd.concat([df1.set_index('ID'), df2.set_index('ID')], axis=1)\n",
    "print(\"Concatenation Horizontal (axis=1):\")\n",
    "print(df_concat_horizontal)"
   ]
  },
  {
   "cell_type": "code",
   "execution_count": null,
   "id": "f9dcc917",
   "metadata": {
    "papermill": {
     "duration": 0.00228,
     "end_time": "2025-02-24T06:30:55.543908",
     "exception": false,
     "start_time": "2025-02-24T06:30:55.541628",
     "status": "completed"
    },
    "tags": []
   },
   "outputs": [],
   "source": []
  }
 ],
 "metadata": {
  "kaggle": {
   "accelerator": "none",
   "dataSources": [],
   "dockerImageVersionId": 30918,
   "isGpuEnabled": false,
   "isInternetEnabled": true,
   "language": "python",
   "sourceType": "notebook"
  },
  "kernelspec": {
   "display_name": "Python 3",
   "language": "python",
   "name": "python3"
  },
  "language_info": {
   "codemirror_mode": {
    "name": "ipython",
    "version": 3
   },
   "file_extension": ".py",
   "mimetype": "text/x-python",
   "name": "python",
   "nbconvert_exporter": "python",
   "pygments_lexer": "ipython3",
   "version": "3.10.12"
  },
  "papermill": {
   "default_parameters": {},
   "duration": 4.496773,
   "end_time": "2025-02-24T06:30:56.067186",
   "environment_variables": {},
   "exception": null,
   "input_path": "__notebook__.ipynb",
   "output_path": "__notebook__.ipynb",
   "parameters": {},
   "start_time": "2025-02-24T06:30:51.570413",
   "version": "2.6.0"
  }
 },
 "nbformat": 4,
 "nbformat_minor": 5
}
