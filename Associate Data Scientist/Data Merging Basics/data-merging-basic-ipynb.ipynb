{
 "cells": [
  {
   "cell_type": "code",
   "execution_count": 1,
   "id": "cddc0f6a",
   "metadata": {
    "_cell_guid": "b1076dfc-b9ad-4769-8c92-a6c4dae69d19",
    "_uuid": "8f2839f25d086af736a60e9eeb907d3b93b6e0e5",
    "execution": {
     "iopub.execute_input": "2025-02-24T06:18:51.364384Z",
     "iopub.status.busy": "2025-02-24T06:18:51.363971Z",
     "iopub.status.idle": "2025-02-24T06:18:52.560355Z",
     "shell.execute_reply": "2025-02-24T06:18:52.559102Z"
    },
    "papermill": {
     "duration": 1.201776,
     "end_time": "2025-02-24T06:18:52.562540",
     "exception": false,
     "start_time": "2025-02-24T06:18:51.360764",
     "status": "completed"
    },
    "tags": []
   },
   "outputs": [
    {
     "name": "stdout",
     "output_type": "stream",
     "text": [
      "Left Join:\n",
      "    ID   Nama  Nilai\n",
      "0   1    Ayu   85.0\n",
      "1   2   Budi   90.0\n",
      "2   3  Citra    NaN\n",
      "Right Join:\n",
      "    ID  Nama  Nilai\n",
      "0   1   Ayu     85\n",
      "1   2  Budi     90\n",
      "2   4   NaN     75\n",
      "Outer Join:\n",
      "    ID   Nama  Nilai\n",
      "0   1    Ayu   85.0\n",
      "1   2   Budi   90.0\n",
      "2   3  Citra    NaN\n",
      "3   4    NaN   75.0\n"
     ]
    },
    {
     "name": "stderr",
     "output_type": "stream",
     "text": [
      "/usr/local/lib/python3.10/dist-packages/pandas/io/formats/format.py:1458: RuntimeWarning: invalid value encountered in greater\n",
      "  has_large_values = (abs_vals > 1e6).any()\n",
      "/usr/local/lib/python3.10/dist-packages/pandas/io/formats/format.py:1459: RuntimeWarning: invalid value encountered in less\n",
      "  has_small_values = ((abs_vals < 10 ** (-self.digits)) & (abs_vals > 0)).any()\n",
      "/usr/local/lib/python3.10/dist-packages/pandas/io/formats/format.py:1459: RuntimeWarning: invalid value encountered in greater\n",
      "  has_small_values = ((abs_vals < 10 ** (-self.digits)) & (abs_vals > 0)).any()\n",
      "/usr/local/lib/python3.10/dist-packages/pandas/io/formats/format.py:1458: RuntimeWarning: invalid value encountered in greater\n",
      "  has_large_values = (abs_vals > 1e6).any()\n",
      "/usr/local/lib/python3.10/dist-packages/pandas/io/formats/format.py:1459: RuntimeWarning: invalid value encountered in less\n",
      "  has_small_values = ((abs_vals < 10 ** (-self.digits)) & (abs_vals > 0)).any()\n",
      "/usr/local/lib/python3.10/dist-packages/pandas/io/formats/format.py:1459: RuntimeWarning: invalid value encountered in greater\n",
      "  has_small_values = ((abs_vals < 10 ** (-self.digits)) & (abs_vals > 0)).any()\n"
     ]
    }
   ],
   "source": [
    "import pandas as pd\n",
    "\n",
    "# Membuat dua DataFrame\n",
    "data1 = pd.DataFrame({'ID': [1, 2, 3], 'Nama': ['Ayu', 'Budi', 'Citra']})\n",
    "data2 = pd.DataFrame({'ID': [1, 2, 4], 'Nilai': [85, 90, 75]})\n",
    "\n",
    "# Menggabungkan data menggunakan left join\n",
    "merged_left = pd.merge(data1, data2, on='ID', how='left')\n",
    "\n",
    "# Menggabungkan data menggunakan right join\n",
    "merged_right = pd.merge(data1, data2, on='ID', how='right')\n",
    "\n",
    "# Menggabungkan data menggunakan outer join\n",
    "merged_outer = pd.merge(data1, data2, on='ID', how='outer')\n",
    "\n",
    "# Menampilkan hasil\n",
    "print(\"Left Join:\\n\", merged_left)\n",
    "print(\"Right Join:\\n\", merged_right)\n",
    "print(\"Outer Join:\\n\", merged_outer)"
   ]
  }
 ],
 "metadata": {
  "kaggle": {
   "accelerator": "none",
   "dataSources": [],
   "dockerImageVersionId": 30918,
   "isGpuEnabled": false,
   "isInternetEnabled": true,
   "language": "python",
   "sourceType": "notebook"
  },
  "kernelspec": {
   "display_name": "Python 3",
   "language": "python",
   "name": "python3"
  },
  "language_info": {
   "codemirror_mode": {
    "name": "ipython",
    "version": 3
   },
   "file_extension": ".py",
   "mimetype": "text/x-python",
   "name": "python",
   "nbconvert_exporter": "python",
   "pygments_lexer": "ipython3",
   "version": "3.10.12"
  },
  "papermill": {
   "default_parameters": {},
   "duration": 5.55621,
   "end_time": "2025-02-24T06:18:53.184747",
   "environment_variables": {},
   "exception": null,
   "input_path": "__notebook__.ipynb",
   "output_path": "__notebook__.ipynb",
   "parameters": {},
   "start_time": "2025-02-24T06:18:47.628537",
   "version": "2.6.0"
  }
 },
 "nbformat": 4,
 "nbformat_minor": 5
}
